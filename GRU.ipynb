import numpy as np

class GRUCell:
    def __init__(self, input_dim, hidden_dim):
        self.input_dim = input_dim
        self.hidden_dim = hidden_dim

        # Initialize weights and biases for update, reset, and new gates
        self.W_z = np.random.randn(hidden_dim, input_dim)
        self.U_z = np.random.randn(hidden_dim, hidden_dim)
        self.b_z = np.zeros((hidden_dim, 1))

        self.W_r = np.random.randn(hidden_dim, input_dim)
        self.U_r = np.random.randn(hidden_dim, hidden_dim)
        self.b_r = np.zeros((hidden_dim, 1))

        self.W_h = np.random.randn(hidden_dim, input_dim)
        self.U_h = np.random.randn(hidden_dim, hidden_dim)
        self.b_h = np.zeros((hidden_dim, 1))

    def sigmoid(self, x):
        return 1 / (1 + np.exp(-x))

    def tanh(self, x):
        return np.tanh(x)

    def forward(self, x, h_prev):
        # Update gate
        z_t = self.sigmoid(self.W_z @ x + self.U_z @ h_prev + self.b_z)
        
        # Reset gate
        r_t = self.sigmoid(self.W_r @ x + self.U_r @ h_prev + self.b_r)
        
        # Candidate hidden state
        h_hat_t = self.tanh(self.W_h @ x + self.U_h @ (r_t * h_prev) + self.b_h)
        
        # Hidden state
        h_t = (1 - z_t) * h_prev + z_t * h_hat_t
        
        return h_t

# Example usage
input_dim = 3
hidden_dim = 5

gru_cell = GRUCell(input_dim, hidden_dim)

# Example input and previous hidden state
x = np.random.randn(input_dim, 1)
h_prev = np.zeros((hidden_dim, 1))

h_t = gru_cell.forward(x, h_prev)

print("Hidden state (h_t):", h_t)
