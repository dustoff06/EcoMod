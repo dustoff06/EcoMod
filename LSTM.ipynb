import numpy as np

class LSTMCell:
    def __init__(self, input_dim, hidden_dim):
        self.input_dim = input_dim
        self.hidden_dim = hidden_dim

        # Initialize weights and biases for input, forget, cell, and output gates
        self.W_i = np.random.randn(hidden_dim, input_dim)
        self.U_i = np.random.randn(hidden_dim, hidden_dim)
        self.b_i = np.zeros((hidden_dim, 1))

        self.W_f = np.random.randn(hidden_dim, input_dim)
        self.U_f = np.random.randn(hidden_dim, hidden_dim)
        self.b_f = np.zeros((hidden_dim, 1))

        self.W_c = np.random.randn(hidden_dim, input_dim)
        self.U_c = np.random.randn(hidden_dim, hidden_dim)
        self.b_c = np.zeros((hidden_dim, 1))

        self.W_o = np.random.randn(hidden_dim, input_dim)
        self.U_o = np.random.randn(hidden_dim, hidden_dim)
        self.b_o = np.zeros((hidden_dim, 1))

    def sigmoid(self, x):
        return 1 / (1 + np.exp(-x))

    def tanh(self, x):
        return np.tanh(x)

    def forward(self, x, h_prev, c_prev):
        # Input gate
        i_t = self.sigmoid(self.W_i @ x + self.U_i @ h_prev + self.b_i)
        
        # Forget gate
        f_t = self.sigmoid(self.W_f @ x + self.U_f @ h_prev + self.b_f)
        
        # Cell candidate
        c_hat_t = self.tanh(self.W_c @ x + self.U_c @ h_prev + self.b_c)
        
        # Cell state
        c_t = f_t * c_prev + i_t * c_hat_t
        
        # Output gate
        o_t = self.sigmoid(self.W_o @ x + self.U_o @ h_prev + self.b_o)
        
        # Hidden state
        h_t = o_t * self.tanh(c_t)
        
        return h_t, c_t

# Example usage
input_dim = 3
hidden_dim = 5

lstm_cell = LSTMCell(input_dim, hidden_dim)

# Example input and previous hidden and cell states
x = np.random.randn(input_dim, 1)
h_prev = np.zeros((hidden_dim, 1))
c_prev = np.zeros((hidden_dim, 1))

h_t, c_t = lstm_cell.forward(x, h_prev, c_prev)

print("Hidden state (h_t):", h_t)
print("Cell state (c_t):", c_t)
